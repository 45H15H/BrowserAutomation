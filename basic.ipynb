{
 "cells": [
  {
   "cell_type": "code",
   "execution_count": 32,
   "metadata": {},
   "outputs": [],
   "source": [
    "from selenium import webdriver\n",
    "# webdriver is for opening the browser"
   ]
  },
  {
   "cell_type": "code",
   "execution_count": 33,
   "metadata": {},
   "outputs": [],
   "source": [
    "# we need to add the specific webdriver to the PATH\n",
    "import os\n",
    "os.environ['PATH'] += \"D:\\BrowserAutomation\\msedgedriver.exe\""
   ]
  },
  {
   "cell_type": "code",
   "execution_count": 34,
   "metadata": {},
   "outputs": [
    {
     "data": {
      "text/plain": [
       "'https://www.linkedin.com/'"
      ]
     },
     "execution_count": 34,
     "metadata": {},
     "output_type": "execute_result"
    }
   ],
   "source": [
    "# goining to a website and clicking a button\n",
    "\"\"\"https://www.linkedin.com/\"\"\"\n",
    "# going to this website and clicking on menu botton"
   ]
  },
  {
   "cell_type": "code",
   "execution_count": 35,
   "metadata": {},
   "outputs": [],
   "source": [
    "options = webdriver.EdgeOptions()\n",
    "options.add_argument('--ignore-certificate-errors') # -> to ignore certificate errors\n",
    "options.add_argument('--incognito') # -> to use incognito mode\n",
    "#options.add_argument('--headless')\n",
    "\n",
    "driver = webdriver.Edge(options=options)\n",
    "# you have to download a specific driver executable for each specific browser\n",
    "# and add it to path like in above cell\n",
    "# running this cell will open edge\n",
    "\n",
    "# going to the website\n",
    "driver.get(\"https://www.linkedin.com/\")"
   ]
  },
  {
   "cell_type": "code",
   "execution_count": 36,
   "metadata": {},
   "outputs": [],
   "source": [
    "# here we are going to wait for some time to let the website load completely \n",
    "driver.implicitly_wait(30) # this is subsitute to time.sleep(30)\n",
    "# notice that it will not wait for full 30 seconds if the website is loaded before time\n",
    "# also note that now you don't have to again use this wait command cuz it will applay to all the finds we are going to do"
   ]
  },
  {
   "cell_type": "code",
   "execution_count": 37,
   "metadata": {},
   "outputs": [],
   "source": [
    "# now clicking button\n",
    "# first getting the button\n",
    "# using xpath cuz it is more direct than class and id\n",
    "button = driver.find_element(\"xpath\", '//*[@id=\"main-content\"]/section[1]/div/div/form/button')\n",
    "# notice the syntax for finding elements\n",
    "button.click()\n"
   ]
  },
  {
   "cell_type": "code",
   "execution_count": 38,
   "metadata": {},
   "outputs": [],
   "source": [
    "# we need to check if what has been clicked is actually clikced or not\n",
    "# so we are going to wait explicitly\n",
    "# the following imports are required\n",
    "from selenium.webdriver.common.by import By\n",
    "from selenium.webdriver.support.ui import WebDriverWait\n",
    "from selenium.webdriver.support import expected_conditions as EC"
   ]
  },
  {
   "cell_type": "code",
   "execution_count": 39,
   "metadata": {},
   "outputs": [
    {
     "data": {
      "text/plain": [
       "True"
      ]
     },
     "execution_count": 39,
     "metadata": {},
     "output_type": "execute_result"
    }
   ],
   "source": [
    "WebDriverWait(driver, 30).until( # -> initiate wait for object driver for 30 seconds\n",
    "    EC.text_to_be_present_in_element( # -> arguments for this are: element to check for the text, the expected text\n",
    "        (By.CLASS_NAME, \"alert-content\"), #-. element filteration\n",
    "        \"Please enter your email address or mobile number.\" # -> expected text\n",
    "    )\n",
    ") "
   ]
  },
  {
   "cell_type": "code",
   "execution_count": 40,
   "metadata": {},
   "outputs": [],
   "source": [
    "# the above cell output is true cuz it happened what we expected for.\n",
    "# alert content showed the expected text.\n",
    "\n",
    "# note that in above cell EC. has many other such options to play with"
   ]
  },
  {
   "cell_type": "code",
   "execution_count": null,
   "metadata": {},
   "outputs": [],
   "source": []
  }
 ],
 "metadata": {
  "kernelspec": {
   "display_name": "BrowserAutomation",
   "language": "python",
   "name": "python3"
  },
  "language_info": {
   "codemirror_mode": {
    "name": "ipython",
    "version": 3
   },
   "file_extension": ".py",
   "mimetype": "text/x-python",
   "name": "python",
   "nbconvert_exporter": "python",
   "pygments_lexer": "ipython3",
   "version": "3.10.4 (tags/v3.10.4:9d38120, Mar 23 2022, 23:13:41) [MSC v.1929 64 bit (AMD64)]"
  },
  "orig_nbformat": 4,
  "vscode": {
   "interpreter": {
    "hash": "93ee9874ed20e2cc785c68040d56ec7e2e8f07223706e832ffdab52e99a1ecf9"
   }
  }
 },
 "nbformat": 4,
 "nbformat_minor": 2
}
